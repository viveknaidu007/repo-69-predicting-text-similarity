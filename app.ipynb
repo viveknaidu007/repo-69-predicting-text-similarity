{
 "cells": [
  {
   "cell_type": "code",
   "execution_count": 2,
   "metadata": {},
   "outputs": [],
   "source": [
    "import pandas as pd\n",
    "df = pd.read_csv(\"DataNeuron_Text_Similarity.csv\")"
   ]
  },
  {
   "cell_type": "code",
   "execution_count": 3,
   "metadata": {},
   "outputs": [
    {
     "data": {
      "text/html": [
       "<div>\n",
       "<style scoped>\n",
       "    .dataframe tbody tr th:only-of-type {\n",
       "        vertical-align: middle;\n",
       "    }\n",
       "\n",
       "    .dataframe tbody tr th {\n",
       "        vertical-align: top;\n",
       "    }\n",
       "\n",
       "    .dataframe thead th {\n",
       "        text-align: right;\n",
       "    }\n",
       "</style>\n",
       "<table border=\"1\" class=\"dataframe\">\n",
       "  <thead>\n",
       "    <tr style=\"text-align: right;\">\n",
       "      <th></th>\n",
       "      <th>text1</th>\n",
       "      <th>text2</th>\n",
       "    </tr>\n",
       "  </thead>\n",
       "  <tbody>\n",
       "    <tr>\n",
       "      <th>0</th>\n",
       "      <td>broadband challenges tv viewing the number of ...</td>\n",
       "      <td>gardener wins double in glasgow britain s jaso...</td>\n",
       "    </tr>\n",
       "    <tr>\n",
       "      <th>1</th>\n",
       "      <td>rap boss arrested over drug find rap mogul mar...</td>\n",
       "      <td>amnesty chief laments war failure the lack of ...</td>\n",
       "    </tr>\n",
       "    <tr>\n",
       "      <th>2</th>\n",
       "      <td>player burn-out worries robinson england coach...</td>\n",
       "      <td>hanks greeted at wintry premiere hollywood sta...</td>\n",
       "    </tr>\n",
       "    <tr>\n",
       "      <th>3</th>\n",
       "      <td>hearts of oak 3-2 cotonsport hearts of oak set...</td>\n",
       "      <td>redford s vision of sundance despite sporting ...</td>\n",
       "    </tr>\n",
       "    <tr>\n",
       "      <th>4</th>\n",
       "      <td>sir paul rocks super bowl crowds sir paul mcca...</td>\n",
       "      <td>mauresmo opens with victory in la amelie maure...</td>\n",
       "    </tr>\n",
       "  </tbody>\n",
       "</table>\n",
       "</div>"
      ],
      "text/plain": [
       "                                               text1  \\\n",
       "0  broadband challenges tv viewing the number of ...   \n",
       "1  rap boss arrested over drug find rap mogul mar...   \n",
       "2  player burn-out worries robinson england coach...   \n",
       "3  hearts of oak 3-2 cotonsport hearts of oak set...   \n",
       "4  sir paul rocks super bowl crowds sir paul mcca...   \n",
       "\n",
       "                                               text2  \n",
       "0  gardener wins double in glasgow britain s jaso...  \n",
       "1  amnesty chief laments war failure the lack of ...  \n",
       "2  hanks greeted at wintry premiere hollywood sta...  \n",
       "3  redford s vision of sundance despite sporting ...  \n",
       "4  mauresmo opens with victory in la amelie maure...  "
      ]
     },
     "execution_count": 3,
     "metadata": {},
     "output_type": "execute_result"
    }
   ],
   "source": [
    "df.head()"
   ]
  },
  {
   "cell_type": "code",
   "execution_count": 4,
   "metadata": {},
   "outputs": [
    {
     "data": {
      "text/plain": [
       "(3000, 2)"
      ]
     },
     "execution_count": 4,
     "metadata": {},
     "output_type": "execute_result"
    }
   ],
   "source": [
    "df.shape"
   ]
  },
  {
   "cell_type": "code",
   "execution_count": 3,
   "metadata": {},
   "outputs": [
    {
     "name": "stdout",
     "output_type": "stream",
     "text": [
      "Model trained and saved successfully!\n"
     ]
    }
   ],
   "source": [
    "import pandas as pd\n",
    "import spacy\n",
    "from sklearn.model_selection import train_test_split\n",
    "from sklearn.linear_model import LinearRegression\n",
    "from sklearn.metrics import mean_squared_error\n",
    "import joblib\n",
    "\n",
    "# load dataset\n",
    "data = pd.read_csv('DataNeuron_Text_Similarity.csv')\n",
    "\n",
    "# load spaCy model\n",
    "nlp = spacy.load('en_core_web_lg')\n",
    "\n",
    "# function to preprocess text\n",
    "def preprocess_text(text):\n",
    "    # here tokenization and removing stop words are handled by spaCy\n",
    "    return nlp(text)\n",
    "\n",
    "# preprocess text paragraphs\n",
    "data['text1'] = data['text1'].apply(preprocess_text)   #applying text1 column\n",
    "data['text2'] = data['text2'].apply(preprocess_text)   #applying text2 column\n",
    "\n",
    "# function to calculate similarity score between spaCy document objects\n",
    "def calculate_similarity(doc1, doc2):\n",
    "    return doc1.similarity(doc2)\n",
    "\n",
    "# calculating similarity scores for all pairs of text paragraphs\n",
    "data['similarity_score'] = data.apply(lambda row: calculate_similarity(row['text1'], row['text2']), axis=1) \n",
    "\n",
    "# train-test split  , #here we are not using Y becaz its was unsupervied learning\n",
    "X = data[['similarity_score']]\n",
    "X_train, X_test = train_test_split(X, test_size=0.2, random_state=42)\n",
    "\n",
    "# train a linear regression model\n",
    "model = LinearRegression()\n",
    "model.fit(X_train, X_train)  # fitting on X_train , there are no labels unsupervised learning\n",
    "\n",
    "\n",
    "# saving the the trained model\n",
    "joblib.dump(model, 'semantic_similarity_model.pkl')\n",
    "\n",
    "print(\"Model trained and saved successfully!\")\n",
    "\n",
    "#hm it took me 9minutes , 40sec to train the model i, runned on cpu , if in GPU it will take less time"
   ]
  },
  {
   "cell_type": "code",
   "execution_count": 5,
   "metadata": {},
   "outputs": [
    {
     "name": "stdout",
     "output_type": "stream",
     "text": [
      "Similarity score: [0.38275032]\n"
     ]
    }
   ],
   "source": [
    "#testing the model\n",
    "\n",
    "import spacy\n",
    "import joblib\n",
    "import warnings\n",
    "warnings.filterwarnings(\"ignore\")\n",
    "\n",
    "# load spaCy model\n",
    "nlp = spacy.load('en_core_web_lg')\n",
    "\n",
    "# load the trained model\n",
    "model = joblib.load('semantic_similarity_model.pkl')\n",
    "\n",
    "# function to preprocess text\n",
    "def preprocess_text(text):\n",
    "    return nlp(text)\n",
    "\n",
    "# function to calculate \n",
    "def predict_similarity(text1, text2):\n",
    "    # Preprocess text\n",
    "    text1 = preprocess_text(text1)\n",
    "    text2 = preprocess_text(text2)\n",
    "    \n",
    "    # calculate\n",
    "    similarity_score = model.predict([[text1.similarity(text2)]])[0]\n",
    "    \n",
    "    return similarity_score\n",
    "\n",
    "# examples usage\n",
    "text1 = \"nuclear body seeks new tech\"\n",
    "text2 = \"terror suspects face arrest\"\n",
    "similarity_score = predict_similarity(text1, text2)\n",
    "print(\"Similarity score:\", similarity_score)\n"
   ]
  },
  {
   "cell_type": "code",
   "execution_count": 6,
   "metadata": {},
   "outputs": [
    {
     "name": "stdout",
     "output_type": "stream",
     "text": [
      "Similarity score: [1.]\n"
     ]
    }
   ],
   "source": [
    "# example usage\n",
    "text1 = \"boy\"\n",
    "text2 = \"boy\"\n",
    "similarity_score = predict_similarity(text1, text2)\n",
    "print(\"Similarity score:\", similarity_score)"
   ]
  },
  {
   "cell_type": "code",
   "execution_count": 7,
   "metadata": {},
   "outputs": [
    {
     "name": "stdout",
     "output_type": "stream",
     "text": [
      "Similarity score: [0.86078391]\n"
     ]
    }
   ],
   "source": [
    "# example usage\n",
    "text1 = \"boy\"\n",
    "text2 = \"girl\"\n",
    "similarity_score = predict_similarity(text1, text2)\n",
    "print(\"Similarity score:\", similarity_score)"
   ]
  },
  {
   "cell_type": "code",
   "execution_count": 8,
   "metadata": {},
   "outputs": [
    {
     "name": "stdout",
     "output_type": "stream",
     "text": [
      "Similarity score: [0.74406484]\n"
     ]
    }
   ],
   "source": [
    "# example usage\n",
    "text1 = \"blue\"\n",
    "text2 = \"green\"\n",
    "similarity_score = predict_similarity(text1, text2)\n",
    "print(\"Similarity score:\", similarity_score)"
   ]
  },
  {
   "cell_type": "code",
   "execution_count": 10,
   "metadata": {},
   "outputs": [
    {
     "name": "stdout",
     "output_type": "stream",
     "text": [
      "Similarity score: 0.8753418700300782\n"
     ]
    }
   ],
   "source": [
    "# example usage\n",
    "text1 = \"dark green\"\n",
    "text2 = \"green\"\n",
    "similarity_score = predict_similarity(text1, text2)\n",
    "print(\"Similarity score:\", float(similarity_score))"
   ]
  }
 ],
 "metadata": {
  "kernelspec": {
   "display_name": "datascience",
   "language": "python",
   "name": "python3"
  },
  "language_info": {
   "codemirror_mode": {
    "name": "ipython",
    "version": 3
   },
   "file_extension": ".py",
   "mimetype": "text/x-python",
   "name": "python",
   "nbconvert_exporter": "python",
   "pygments_lexer": "ipython3",
   "version": "3.10.14"
  }
 },
 "nbformat": 4,
 "nbformat_minor": 2
}
