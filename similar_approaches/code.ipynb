{
 "cells": [
  {
   "cell_type": "code",
   "execution_count": 2,
   "metadata": {},
   "outputs": [
    {
     "name": "stderr",
     "output_type": "stream",
     "text": [
      "[nltk_data] Downloading package stopwords to\n",
      "[nltk_data]     C:\\Users\\poppo\\AppData\\Roaming\\nltk_data...\n",
      "[nltk_data]   Package stopwords is already up-to-date!\n"
     ]
    },
    {
     "name": "stdout",
     "output_type": "stream",
     "text": [
      "Similarity score: [0.341886   0.01037452 0.003107   ... 0.         0.01313065 0.        ]\n"
     ]
    }
   ],
   "source": [
    "import pandas as pd\n",
    "from sklearn.feature_extraction.text import TfidfVectorizer\n",
    "from sklearn.metrics.pairwise import cosine_similarity\n",
    "import nltk\n",
    "from nltk.corpus import stopwords\n",
    "import string\n",
    "import pickle\n",
    "\n",
    "# Download NLTK stopwords\n",
    "nltk.download('stopwords')\n",
    "stop_words = set(stopwords.words('english'))\n",
    "\n",
    "# Load dataset\n",
    "data = pd.read_csv('DataNeuron_Text_Similarity.csv')\n",
    "\n",
    "# Function to preprocess text\n",
    "def preprocess_text(text):\n",
    "    # Convert text to lowercase\n",
    "    text = text.lower()\n",
    "    # Remove punctuation\n",
    "    text = text.translate(str.maketrans('', '', string.punctuation))\n",
    "    # Tokenize text\n",
    "    tokens = nltk.word_tokenize(text)\n",
    "    # Remove stopwords\n",
    "    tokens = [word for word in tokens if word not in stop_words]\n",
    "    # Join tokens back into a string\n",
    "    text = ' '.join(tokens)\n",
    "    return text\n",
    "\n",
    "# Preprocess text in dataset\n",
    "data['text1'] = data['text1'].apply(preprocess_text)\n",
    "data['text2'] = data['text2'].apply(preprocess_text)\n",
    "\n",
    "# Vectorize text data\n",
    "vectorizer = TfidfVectorizer()\n",
    "tfidf_matrix = vectorizer.fit_transform(data['text1'] + ' ' + data['text2'])\n",
    "\n",
    "# Calculate cosine similarity\n",
    "similarity_scores = cosine_similarity(tfidf_matrix)\n",
    "\n",
    "# Save vectorizer and similarity scores\n",
    "with open('vectorizer.pkl', 'wb') as f:\n",
    "    pickle.dump(vectorizer, f)\n",
    "\n",
    "with open('similarity_scores.pkl', 'wb') as f:\n",
    "    pickle.dump(similarity_scores, f)\n",
    "\n",
    "# Load vectorizer and similarity scores\n",
    "with open('vectorizer.pkl', 'rb') as f:\n",
    "    vectorizer = pickle.load(f)\n",
    "\n",
    "with open('similarity_scores.pkl', 'rb') as f:\n",
    "    similarity_scores = pickle.load(f)\n",
    "\n",
    "# Function to predict similarity score\n",
    "def predict_similarity(text1, text2):\n",
    "    # Preprocess text data\n",
    "    text = preprocess_text(text1) + ' ' + preprocess_text(text2)\n",
    "    vectorized_text = vectorizer.transform([text])\n",
    "    \n",
    "    # Calculate cosine similarity\n",
    "    similarity_score = cosine_similarity(vectorized_text, tfidf_matrix)[0]\n",
    "    return similarity_score\n",
    "\n",
    "# Example usage\n",
    "text1 = \"broadband challenges tv viewing the number of ...\"\n",
    "text2 = \"gardener wins double in glasgow britain s jaso...\"\n",
    "similarity_score = predict_similarity(text1, text2)\n",
    "print(\"Similarity score:\", similarity_score)\n"
   ]
  }
 ],
 "metadata": {
  "kernelspec": {
   "display_name": "datascience",
   "language": "python",
   "name": "python3"
  },
  "language_info": {
   "codemirror_mode": {
    "name": "ipython",
    "version": 3
   },
   "file_extension": ".py",
   "mimetype": "text/x-python",
   "name": "python",
   "nbconvert_exporter": "python",
   "pygments_lexer": "ipython3",
   "version": "3.10.14"
  }
 },
 "nbformat": 4,
 "nbformat_minor": 2
}
